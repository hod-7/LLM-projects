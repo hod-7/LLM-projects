{
 "cells": [
  {
   "cell_type": "code",
   "execution_count": 1,
   "metadata": {},
   "outputs": [
    {
     "name": "stderr",
     "output_type": "stream",
     "text": [
      "c:\\Users\\isuru\\AppData\\Local\\anaconda3\\envs\\llamaindex\\lib\\site-packages\\tqdm\\auto.py:21: TqdmWarning: IProgress not found. Please update jupyter and ipywidgets. See https://ipywidgets.readthedocs.io/en/stable/user_install.html\n",
      "  from .autonotebook import tqdm as notebook_tqdm\n"
     ]
    },
    {
     "name": "stdout",
     "output_type": "stream",
     "text": [
      "2023-11-23 15:14:36 - Load pretrained SentenceTransformer: BAAI/bge-small-en-v1.5\n"
     ]
    },
    {
     "name": "stderr",
     "output_type": "stream",
     "text": [
      "c:\\Users\\isuru\\AppData\\Local\\anaconda3\\envs\\llamaindex\\lib\\site-packages\\langchain\\chat_models\\azure_openai.py:155: UserWarning: As of openai>=1.0.0, Azure endpoints should be specified via the `azure_endpoint` param not `openai_api_base` (or alias `base_url`). Updating `openai_api_base` from https://doc-ocr-adl.openai.azure.com/ to https://doc-ocr-adl.openai.azure.com/openai.\n",
      "  warnings.warn(\n",
      "c:\\Users\\isuru\\AppData\\Local\\anaconda3\\envs\\llamaindex\\lib\\site-packages\\langchain\\chat_models\\azure_openai.py:162: UserWarning: As of openai>=1.0.0, if `deployment_name` (or alias `azure_deployment`) is specified then `openai_api_base` (or alias `base_url`) should not be. Instead use `deployment_name` (or alias `azure_deployment`) and `azure_endpoint`.\n",
      "  warnings.warn(\n",
      "c:\\Users\\isuru\\AppData\\Local\\anaconda3\\envs\\llamaindex\\lib\\site-packages\\langchain\\chat_models\\azure_openai.py:170: UserWarning: As of openai>=1.0.0, if `openai_api_base` (or alias `base_url`) is specified it is expected to be of the form https://example-resource.azure.openai.com/openai/deployments/example-deployment. Updating https://doc-ocr-adl.openai.azure.com/ to https://doc-ocr-adl.openai.azure.com/openai.\n",
      "  warnings.warn(\n"
     ]
    }
   ],
   "source": [
    "from configure_models import *"
   ]
  },
  {
   "cell_type": "code",
   "execution_count": 3,
   "metadata": {},
   "outputs": [
    {
     "name": "stdout",
     "output_type": "stream",
     "text": [
      "\n",
      "\n",
      "\u001b[1m> Entering new LLMChain chain...\u001b[0m\n",
      "Prompt after formatting:\n",
      "\u001b[32;1m\u001b[1;3mSystem: You are a helpful AI assistant and provide the answer for the question asked politely.\n",
      "If you don't know the answer, just say that you don't know, don't hallucinate.\n",
      "Human: Do you know machine learning?\u001b[0m\n",
      "2023-11-23 15:14:49 - HTTP Request: POST https://doc-ocr-adl.openai.azure.com/openai/deployments/chat_model/chat/completions?api-version=2023-05-15 \"HTTP/1.1 200 OK\"\n",
      "\n",
      "\u001b[1m> Finished chain.\u001b[0m\n"
     ]
    },
    {
     "data": {
      "text/plain": [
       "'Yes, I know machine learning. Machine learning is an application of artificial intelligence that allows systems to learn from data, identify patterns and make decisions with minimal human intervention. It is used in a wide range of applications, including image recognition, speech recognition, natural language processing, fraud detection, and many others.'"
      ]
     },
     "execution_count": 3,
     "metadata": {},
     "output_type": "execute_result"
    }
   ],
   "source": [
    "llm_chain.predict(question=\"Do you know machine learning?\")"
   ]
  },
  {
   "cell_type": "code",
   "execution_count": 4,
   "metadata": {},
   "outputs": [
    {
     "name": "stdout",
     "output_type": "stream",
     "text": [
      "\n",
      "\n",
      "\u001b[1m> Entering new LLMChain chain...\u001b[0m\n",
      "Prompt after formatting:\n",
      "\u001b[32;1m\u001b[1;3mSystem: You are a helpful AI assistant and provide the answer for the question asked politely.\n",
      "If you don't know the answer, just say that you don't know, don't hallucinate.\n",
      "Human: Do you know machine learning?\n",
      "AI: Yes, I know machine learning. Machine learning is an application of artificial intelligence that allows systems to learn from data, identify patterns and make decisions with minimal human intervention. It is used in a wide range of applications, including image recognition, speech recognition, natural language processing, fraud detection, and many others.\n",
      "Human: Do you use?\u001b[0m\n",
      "2023-11-23 15:15:02 - HTTP Request: POST https://doc-ocr-adl.openai.azure.com/openai/deployments/chat_model/chat/completions?api-version=2023-05-15 \"HTTP/1.1 200 OK\"\n",
      "\n",
      "\u001b[1m> Finished chain.\u001b[0m\n"
     ]
    },
    {
     "data": {
      "text/plain": [
       "'As an AI language model, I do not use machine learning in the same way that a software developer or data scientist would use it. However, my responses are generated using complex algorithms that are based on machine learning techniques such as natural language processing, deep learning and neural networks. These algorithms allow me to understand and process human language, and generate responses that are appropriate to the input I receive.'"
      ]
     },
     "execution_count": 4,
     "metadata": {},
     "output_type": "execute_result"
    }
   ],
   "source": [
    "llm_chain.predict(question=\"Do you use?\")"
   ]
  },
  {
   "cell_type": "code",
   "execution_count": null,
   "metadata": {},
   "outputs": [],
   "source": []
  }
 ],
 "metadata": {
  "kernelspec": {
   "display_name": "Python 3",
   "language": "python",
   "name": "python3"
  },
  "language_info": {
   "codemirror_mode": {
    "name": "ipython",
    "version": 3
   },
   "file_extension": ".py",
   "mimetype": "text/x-python",
   "name": "python",
   "nbconvert_exporter": "python",
   "pygments_lexer": "ipython3",
   "version": "3.9.18"
  }
 },
 "nbformat": 4,
 "nbformat_minor": 2
}
